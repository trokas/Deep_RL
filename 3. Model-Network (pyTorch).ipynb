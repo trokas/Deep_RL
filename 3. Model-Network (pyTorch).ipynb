{
 "cells": [
  {
   "cell_type": "markdown",
   "metadata": {},
   "source": [
    "# Simple Reinforcement Learning with Tensorflow: Part 3 - Model-Based RL\n",
    "\n",
    "In this iPython notebook we implement a policy and model network which work in tandem to solve the CartPole reinforcement learning problem using pyTorch. Original series with tensorflow implementation can be found on [Medium](https://medium.com/p/9a6fe0cce99)."
   ]
  },
  {
   "cell_type": "code",
   "execution_count": 125,
   "metadata": {},
   "outputs": [],
   "source": [
    "%matplotlib inline\n",
    "\n",
    "import gym\n",
    "import numpy as np\n",
    "import torch\n",
    "import matplotlib.pyplot as plt\n",
    "\n",
    "xrange = range"
   ]
  },
  {
   "cell_type": "code",
   "execution_count": 191,
   "metadata": {},
   "outputs": [],
   "source": [
    "class PolicyNet(torch.nn.Module):\n",
    "    def __init__(self):\n",
    "        super(PolicyNet, self).__init__()\n",
    "        self.fc1 = torch.nn.Linear(4, 8)\n",
    "        self.fc2 = torch.nn.Linear(8, 2)\n",
    "        self.relu = torch.nn.ReLU()\n",
    "        self.sigm = torch.nn.Softmax()\n",
    "\n",
    "    def forward(self, x):\n",
    "        out = self.fc1(x)\n",
    "        out = self.relu(out)\n",
    "        out = self.fc2(out)\n",
    "        out = self.sigm(out)\n",
    "        return out\n",
    "\n",
    "\n",
    "class ModelNet(torch.nn.Module):\n",
    "    \"\"\"\n",
    "    Input: (state, action) [5 x 1]\n",
    "    Output: (next state) [4 x 1]\n",
    "    \"\"\"\n",
    "    def __init__(self):\n",
    "        super(ModelNet, self).__init__()\n",
    "        self.fc1 = torch.nn.Linear(5, 256)\n",
    "        self.fc2 = torch.nn.Linear(256, 256)\n",
    "        self.fc_state = torch.nn.Linear(256, 4)\n",
    "        self.fc_reward = torch.nn.Linear(256, 1)\n",
    "        self.fc_done = torch.nn.Linear(256, 1)\n",
    "        self.relu = torch.nn.ReLU()\n",
    "    \n",
    "    def forward(self, x):\n",
    "        out = self.fc1(x)\n",
    "        out = self.relu(out)\n",
    "        out = self.fc2(out)\n",
    "        out = self.relu(out)\n",
    "        state = self.fc_state(out)\n",
    "        return state\n",
    "\n",
    "\n",
    "class create_model_env():\n",
    "    \"\"\"\n",
    "    Simulated enviroment based on model.\n",
    "    \"\"\"\n",
    "    def __init__(self, model, state=None):\n",
    "        self.model = model\n",
    "        self.state = self.reset() if state is None else state\n",
    "        self.n = 0\n",
    "    def update(self, model):\n",
    "        self.model = model\n",
    "    def step(self, action):\n",
    "        \"\"\"\n",
    "        Predicts next state based on current state and action taken.\n",
    "        \n",
    "        Returns done status if:\n",
    "            * Cart Position is more than ±2.4 (center of the cart reaches the edge of the display)\n",
    "            * Pole Angle is more than ±12°\n",
    "            * Episode length is greater than 200\n",
    "        \"\"\"\n",
    "        state = model.forward(torch.tensor(np.hstack([self.state, action]), dtype=torch.float))\n",
    "        state = state.detach().numpy()\n",
    "        self.n += 1\n",
    "        self.state = state\n",
    "        # Episode termination\n",
    "        done = (abs(state[0]) > 2.4) or (abs(state[2]) > 12 * 2 * np.math.pi / 360) or (self.n == 200)\n",
    "        return state, 1.0, done, {}\n",
    "    def reset(self):\n",
    "        # Generate reasonable starting point\n",
    "        self.state = np.random.uniform(-0.05, 0.05, [4])\n",
    "        self.n = 0\n",
    "        return self.state\n",
    "\n",
    "\n",
    "def discount_rewards(r, gamma=0.99):\n",
    "    \"\"\"\n",
    "    Take 1D float array of rewards and compute discounted reward .\n",
    "    For example: 0, 1, 2, 3, 4 will be trasnformed to 9.7, 9.8, 8.9, 6.96, 4\n",
    "    \"\"\"\n",
    "    discounted_r = np.zeros_like(r)\n",
    "    running_add = 0\n",
    "    for t in reversed(xrange(0, r.size)):\n",
    "        running_add = running_add * gamma + r[t]\n",
    "        discounted_r[t] = running_add\n",
    "    return discounted_r\n",
    "\n",
    "\n",
    "# Initiate networks\n",
    "policy_loss = []\n",
    "model_loss = []\n",
    "model = ModelNet()\n",
    "model_adam = torch.optim.Adam(model.parameters(), lr=1e-3)\n",
    "policy = PolicyNet()\n",
    "policy_adam = torch.optim.Adam(policy.parameters(), lr=1e-3)\n",
    "\n",
    "real_env_episodes = 0\n",
    "model_env_episodes = 0"
   ]
  },
  {
   "cell_type": "code",
   "execution_count": 199,
   "metadata": {},
   "outputs": [
    {
     "name": "stderr",
     "output_type": "stream",
     "text": [
      "/home/trokas/anaconda3/envs/rl/lib/python3.6/site-packages/ipykernel_launcher.py:13: UserWarning: Implicit dimension choice for softmax has been deprecated. Change the call to include dim=X as an argument.\n",
      "  del sys.path[0]\n"
     ]
    },
    {
     "name": "stdout",
     "output_type": "stream",
     "text": [
      "0 134.0\n",
      "100 167.76\n",
      "200 190.85\n",
      "300 190.06\n",
      "400 194.86\n",
      "500 189.66\n",
      "600 195.81\n",
      "700 196.81\n",
      "800 196.14\n",
      "900 199.0\n",
      "Real world episodes: 3000, Model episodes: 5000\n"
     ]
    }
   ],
   "source": [
    "drawFromModel = True     # When set to True, will use model for observations\n",
    "trainTheModel = False     # Whether to train the model\n",
    "trainThePolicy = True    # Whether to train the policy\n",
    "\n",
    "total_episodes = 1000 # Set total number of episodes to train agent on.\n",
    "max_ep = 1000\n",
    "\n",
    "total_reward = []\n",
    "\n",
    "# Initiate enviroment\n",
    "env = create_model_env(model) if drawFromModel else gym.make('CartPole-v0')\n",
    "\n",
    "for i in range(total_episodes):\n",
    "    if drawFromModel:\n",
    "        model_env_episodes += 1\n",
    "    else:\n",
    "        real_env_episodes += 1\n",
    "    \n",
    "    state = env.reset()\n",
    "    running_reward = 0\n",
    "    state_history = []\n",
    "    action_history = []\n",
    "    reward_history = []\n",
    "\n",
    "    for j in range(max_ep):\n",
    "        if j == 999:\n",
    "            print('Max episodes reached')\n",
    "\n",
    "        action_prob = policy.forward(torch.tensor(state, dtype=torch.float))\n",
    "        action = np.random.choice([0, 1], p=action_prob.detach().numpy())\n",
    "\n",
    "        state_history.append(state)\n",
    "        action_history.append(action)\n",
    "        state, reward, done, info = env.step(action)\n",
    "        reward_history.append(reward)\n",
    "        running_reward += reward\n",
    "\n",
    "        if done:\n",
    "            total_reward.append(running_reward)\n",
    "\n",
    "            if trainThePolicy:\n",
    "\n",
    "                discounted_rewards = torch.tensor(discount_rewards(np.array(reward_history)), dtype=torch.float)\n",
    "                action_prob = policy.forward(torch.tensor(np.stack(state_history), dtype=torch.float))\n",
    "                loss = -torch.mean(torch.log(action_prob[np.arange(j+1), action_history]) * discounted_rewards)\n",
    "                policy_loss.append(loss)\n",
    "\n",
    "                policy_adam.zero_grad()\n",
    "                loss.backward()\n",
    "                policy_adam.step()\n",
    "\n",
    "            if trainTheModel:\n",
    "\n",
    "                in_state_action = np.hstack([np.array(state_history), np.array(action_history)[:, np.newaxis]])[:-1]\n",
    "                out_state = model.forward(torch.tensor(in_state_action, dtype=torch.float))\n",
    "                exp_state = torch.tensor(np.array(state_history)[1:], dtype=torch.float)\n",
    "\n",
    "                loss = torch.mean((exp_state - out_state)**2)\n",
    "                model_loss.append(loss)\n",
    "\n",
    "                model_adam.zero_grad()\n",
    "                loss.backward()\n",
    "                model_adam.step()\n",
    "\n",
    "            env.reset()\n",
    "            break\n",
    "\n",
    "    if i % 100 == 0:\n",
    "        print(i, np.mean(total_reward[-100:]))\n",
    "\n",
    "print('Real world episodes: {0}, Model episodes: {1}'.format(real_env_episodes, model_env_episodes))"
   ]
  },
  {
   "cell_type": "markdown",
   "metadata": {},
   "source": [
    "## Evaluate environment model performance"
   ]
  },
  {
   "cell_type": "code",
   "execution_count": 200,
   "metadata": {},
   "outputs": [
    {
     "data": {
      "text/plain": [
       "[<matplotlib.lines.Line2D at 0x7f61686b2748>]"
      ]
     },
     "execution_count": 200,
     "metadata": {},
     "output_type": "execute_result"
    },
    {
     "data": {
      "image/png": "[encoded data removed]",
      "text/plain": [
       "<Figure size 432x288 with 1 Axes>"
      ]
     },
     "metadata": {
      "needs_background": "light"
     },
     "output_type": "display_data"
    }
   ],
   "source": [
    "plt.plot(model_loss)"
   ]
  },
  {
   "cell_type": "markdown",
   "metadata": {},
   "source": [
    "**Benchmark:** with 3000 real world episodes Vanilla-Policy manages to reach score ~180 out of last 100 episodes.\n",
    "\n",
    "**Result:** with 3000 real world episodes and 5000 model interactions we have much more robust model which manages to win 100 last games with score 200! "
   ]
  }
 ],
 "metadata": {
  "kernelspec": {
   "display_name": "Python 3",
   "language": "python",
   "name": "python3"
  },
  "language_info": {
   "codemirror_mode": {
    "name": "ipython",
    "version": 3
   },
   "file_extension": ".py",
   "mimetype": "text/x-python",
   "name": "python",
   "nbconvert_exporter": "python",
   "pygments_lexer": "ipython3",
   "version": "3.6.6"
  }
 },
 "nbformat": 4,
 "nbformat_minor": 2
}
