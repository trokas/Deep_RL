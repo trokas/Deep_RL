{
 "cells": [
  {
   "cell_type": "markdown",
   "metadata": {},
   "source": [
    "# Simple Reinforcement Learning in Tensorflow Part 1: The Multi-armed bandit\n",
    "\n",
    "In this iPython notebook we implement a simple policy-gradient based agent that can solve the multi-armed bandit problem using pyTorch. For more details see original tutorial containing tensorflow code on [Medium](https://medium.com/@awjuliani/super-simple-reinforcement-learning-tutorial-part-1-fd544fab149)."
   ]
  },
  {
   "cell_type": "code",
   "execution_count": 41,
   "metadata": {},
   "outputs": [],
   "source": [
    "%matplotlib inline\n",
    "\n",
    "import numpy as np\n",
    "import torch\n",
    "import matplotlib.pyplot as plt"
   ]
  },
  {
   "cell_type": "markdown",
   "metadata": {},
   "source": [
    "### The Bandit\n",
    "Here we define our bandit. For this example we are using a four-armed bandit. The pullBandit function generates a random number from a normal distribution with a mean of 0. The lower the bandit number, the more likely a positive reward will be returned. We want our agent to learn to always choose the arm that will give that positive reward."
   ]
  },
  {
   "cell_type": "code",
   "execution_count": 21,
   "metadata": {},
   "outputs": [],
   "source": [
    "# Bandit arms with arm 4 providing best reward\n",
    "bandit_arms = [0.2, 0, -0.2, -2]\n",
    "n = len(bandit_arms)\n",
    "\n",
    "def pullBandit(bandit, bandit_arms=bandit_arms):\n",
    "    # Get a random number.\n",
    "    result = np.random.randn(1)\n",
    "    return 1 if result > bandit_arms[bandit] else -1"
   ]
  },
  {
   "cell_type": "markdown",
   "metadata": {},
   "source": [
    "Let's try to pull each arm 1000 times and see what reward we get."
   ]
  },
  {
   "cell_type": "code",
   "execution_count": 104,
   "metadata": {},
   "outputs": [
    {
     "name": "stdout",
     "output_type": "stream",
     "text": [
      "Arm rewards [-168  -24  120  954], total reward 882\n"
     ]
    }
   ],
   "source": [
    "reward = np.zeros(n).astype('int')\n",
    "for _ in range(1000):\n",
    "    reward += np.array([pullBandit(i) for i in range(n)])\n",
    "print('Arm rewards {0}, total reward {1}'.format(reward, reward.sum()))"
   ]
  },
  {
   "cell_type": "markdown",
   "metadata": {},
   "source": [
    "### The Agent\n",
    "\n",
    "The code below established our simple neural agent. It consists of a set of values for each of the bandit arms. Each value is an estimate of the value of the return from choosing the bandit. We use a policy gradient method to update the agent by moving the value for the selected action toward the recieved reward.\n",
    "\n",
    "We will train our agent by taking actions in our environment, and recieving rewards. Using the rewards and actions, we can know how to properly update our network in order to more often choose actions that will yield the highest rewards over time.\n",
    "\n",
    "$$Loss = - \\log(Policy) * Advantage$$"
   ]
  },
  {
   "cell_type": "code",
   "execution_count": 105,
   "metadata": {},
   "outputs": [
    {
     "name": "stdout",
     "output_type": "stream",
     "text": [
      "Weights: tensor([ 0.7411,  1.0127,  1.2418,  3.3679])\n"
     ]
    }
   ],
   "source": [
    "weights = torch.ones(n, requires_grad=True)\n",
    "adam = torch.optim.Adam([weights], lr=1e-3)\n",
    "soft_max = torch.nn.Softmax(dim=0)\n",
    "\n",
    "total_reward = np.zeros(n)\n",
    "pulls = []\n",
    "\n",
    "# Repeat for number of episodes\n",
    "for i in range(4000):\n",
    "    # Choose action according to Boltzmann distribution.\n",
    "    action = np.random.choice(range(n), p=soft_max(weights).detach().numpy())\n",
    "    # Get our reward from picking one of the bandit arms\n",
    "    reward = pullBandit(action)\n",
    "    pulls.append(action.item())\n",
    "\n",
    "    # Update the network\n",
    "    loss = -torch.log(weights[action]) * reward\n",
    "    adam.zero_grad()\n",
    "    loss.backward()\n",
    "    adam.step()\n",
    "\n",
    "    # Update our running tally of scores.\n",
    "    total_reward[action] += reward\n",
    "\n",
    "print('Weights:', weights)"
   ]
  },
  {
   "cell_type": "markdown",
   "metadata": {},
   "source": [
    "## How rewards change over time?"
   ]
  },
  {
   "cell_type": "code",
   "execution_count": 109,
   "metadata": {},
   "outputs": [
    {
     "data": {
      "image/png": "[encoded data removed]",
      "text/plain": [
       "<Figure size 432x288 with 1 Axes>"
      ]
     },
     "metadata": {},
     "output_type": "display_data"
    },
    {
     "name": "stdout",
     "output_type": "stream",
     "text": [
      "Final rewards [-109    1  117 1853], total reward 1862\n"
     ]
    }
   ],
   "source": [
    "pulls = np.array(pulls)\n",
    "for i in range(n):\n",
    "    plt.plot(np.cumsum(pulls == i), label='Handle {0}'.format(i+1))\n",
    "plt.legend()\n",
    "plt.show()\n",
    "print('Final rewards {0}, total reward {1}'.format(total_reward.astype('int'), total_reward.sum().astype('int')))"
   ]
  }
 ],
 "metadata": {
  "anaconda-cloud": {},
  "kernelspec": {
   "display_name": "Python 3",
   "language": "python",
   "name": "python3"
  },
  "language_info": {
   "codemirror_mode": {
    "name": "ipython",
    "version": 3
   },
   "file_extension": ".py",
   "mimetype": "text/x-python",
   "name": "python",
   "nbconvert_exporter": "python",
   "pygments_lexer": "ipython3",
   "version": "3.6.6"
  }
 },
 "nbformat": 4,
 "nbformat_minor": 2
}
